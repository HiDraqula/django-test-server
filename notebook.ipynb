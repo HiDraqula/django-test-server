{
 "cells": [
  {
   "cell_type": "code",
   "execution_count": null,
   "metadata": {},
   "outputs": [],
   "source": [
    "data = [{\n",
    "    'bot': {\n",
    "        'external_id': '918297456807',\n",
    "        'id': '650a9af51b3269b71d0daa64',\n",
    "        'name': 'Reckon'\n",
    "    },\n",
    "    'contact': {\n",
    "        'id': '650aa2f20b6ad078a8019a4f',\n",
    "        'last_message': 'https://login.sendpulse.com/api/chatbots-service/whatsapp/messages/media?message_id=650c595a5d10537eff070e1e&id=1779632089478769',\n",
    "        'last_message_data': {\n",
    "            'message': {\n",
    "                'context': None,\n",
    "                'errors': None,\n",
    "                'from': 917903742627,\n",
    "                'id': 'wamid.HBgMOTE3OTAzNzQyNjI3FQIAEhggOTE4MUFGMTY0N0FCRkYxNDA5MDk2OTg4RDdBQTUwNUIA',\n",
    "                'identity': None,\n",
    "                'image': {\n",
    "                    'caption': None,\n",
    "                    'id': '1779632089478769',\n",
    "                    'mime_type': 'image/jpeg',\n",
    "                    'sha256': 'MOsVVDZAhy4wc0T3PUl2+tH6snG6z7SHYV94GBVntG4=',\n",
    "                    'url': 'https://login.sendpulse.com/api/chatbots-service/whatsapp/messages/media?message_id=650c595a5d10537eff070e1e&id=1779632089478769'\n",
    "                },\n",
    "                'referral': None,\n",
    "                'timestamp': 1695308117,\n",
    "                'type': 'image'\n",
    "            },\n",
    "            'message_id': 'wamid.HBgMOTE3OTAzNzQyNjI3FQIAEhggOTE4MUFGMTY0N0FCRkYxNDA5MDk2OTg4RDdBQTUwNUIA'\n",
    "        },\n",
    "        'name': 'Aniket',\n",
    "        'phone': '917903742627',\n",
    "        'photo': None,\n",
    "        'tags': [],\n",
    "        'username': 'Aniket',\n",
    "        'variables': []\n",
    "    },\n",
    "    'date': 1695388455,\n",
    "    'info': None,\n",
    "    'service': 'whatsapp',\n",
    "    'title': 'Test'\n",
    "}]\n"
   ]
  }
 ],
 "metadata": {
  "kernelspec": {
   "display_name": "Python 3",
   "language": "python",
   "name": "python3"
  },
  "language_info": {
   "name": "python",
   "version": "3.11.5"
  },
  "orig_nbformat": 4
 },
 "nbformat": 4,
 "nbformat_minor": 2
}
