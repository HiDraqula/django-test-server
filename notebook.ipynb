{
 "cells": [
  {
   "cell_type": "code",
   "execution_count": 2,
   "metadata": {},
   "outputs": [],
   "source": [
    "data = [{\n",
    "    'bot': {\n",
    "        'external_id': '918297456807',\n",
    "        'id': '650a9af51b3269b71d0daa64',\n",
    "        'name': 'Reckon'\n",
    "    },\n",
    "    'contact': {\n",
    "        'id': '650aa2f20b6ad078a8019a4f',\n",
    "        'last_message': 'https://login.sendpulse.com/api/chatbots-service/whatsapp/messages/media?message_id=650c595a5d10537eff070e1e&id=1779632089478769',\n",
    "        'last_message_data': {\n",
    "            'message': {\n",
    "                'context': None,\n",
    "                'errors': None,\n",
    "                'from': 917903742627,\n",
    "                'id': 'wamid.HBgMOTE3OTAzNzQyNjI3FQIAEhggOTE4MUFGMTY0N0FCRkYxNDA5MDk2OTg4RDdBQTUwNUIA',\n",
    "                'identity': None,\n",
    "                'image': {\n",
    "                    'caption': None,\n",
    "                    'id': '1779632089478769',\n",
    "                    'mime_type': 'image/jpeg',\n",
    "                    'sha256': 'MOsVVDZAhy4wc0T3PUl2+tH6snG6z7SHYV94GBVntG4=',\n",
    "                    'url': 'https://login.sendpulse.com/api/chatbots-service/whatsapp/messages/media?message_id=650c595a5d10537eff070e1e&id=1779632089478769'\n",
    "                },\n",
    "                'referral': None,\n",
    "                'timestamp': 1695308117,\n",
    "                'type': 'image'\n",
    "            },\n",
    "            'message_id': 'wamid.HBgMOTE3OTAzNzQyNjI3FQIAEhggOTE4MUFGMTY0N0FCRkYxNDA5MDk2OTg4RDdBQTUwNUIA'\n",
    "        },\n",
    "        'name': 'Aniket',\n",
    "        'phone': '917903742627',\n",
    "        'photo': None,\n",
    "        'tags': [],\n",
    "        'username': 'Aniket',\n",
    "        'variables': []\n",
    "    },\n",
    "    'date': 1695388455,\n",
    "    'info': None,\n",
    "    'service': 'whatsapp',\n",
    "    'title': 'Test'\n",
    "}]\n"
   ]
  },
  {
   "cell_type": "code",
   "execution_count": 11,
   "metadata": {},
   "outputs": [
    {
     "data": {
      "text/plain": [
       "{'id': '650aa2f20b6ad078a8019a4f',\n",
       " 'name': 'Aniket',\n",
       " 'phone': '917903742627',\n",
       " 'photo': None,\n",
       " 'username': 'Aniket'}"
      ]
     },
     "execution_count": 11,
     "metadata": {},
     "output_type": "execute_result"
    }
   ],
   "source": [
    "contact = data[0]['contact']\n",
    "user = {key: contact[key] for key in ('id', 'name', 'phone','photo','username')}\n",
    "last_message = contact['last_message'] or data['last_message_data']['message']['url']\n",
    "user\n"
   ]
  },
  {
   "cell_type": "code",
   "execution_count": 10,
   "metadata": {},
   "outputs": [
    {
     "data": {
      "text/plain": [
       "'https://login.sendpulse.com/api/chatbots-service/whatsapp/messages/media?message_id=650c595a5d10537eff070e1e&id=1779632089478769'"
      ]
     },
     "execution_count": 10,
     "metadata": {},
     "output_type": "execute_result"
    }
   ],
   "source": [
    "# user\n",
    "last_message"
   ]
  },
  {
   "cell_type": "code",
   "execution_count": null,
   "metadata": {},
   "outputs": [],
   "source": []
  }
 ],
 "metadata": {
  "kernelspec": {
   "display_name": "Python 3",
   "language": "python",
   "name": "python3"
  },
  "language_info": {
   "codemirror_mode": {
    "name": "ipython",
    "version": 3
   },
   "file_extension": ".py",
   "mimetype": "text/x-python",
   "name": "python",
   "nbconvert_exporter": "python",
   "pygments_lexer": "ipython3",
   "version": "3.11.5"
  },
  "orig_nbformat": 4
 },
 "nbformat": 4,
 "nbformat_minor": 2
}
